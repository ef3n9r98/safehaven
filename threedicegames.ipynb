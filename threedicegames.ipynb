{
 "cells": [
  {
   "cell_type": "markdown",
   "id": "32e031e1",
   "metadata": {},
   "source": [
    "This is a jupyer notebook that I'm making to save the code I've made for three dice games that Spitznagel takes us through in the first half of his book. "
   ]
  },
  {
   "cell_type": "markdown",
   "id": "1cf4cdbb",
   "metadata": {},
   "source": [
    "The first dice game is with Nietzsche's deamon where you wager all your money with every round. Imagine you're sitting at a table with your entire net worth in front of you. Behind that is Nietzsche's deamon. He makes you an offer to play a dice game. If you roll a 1, he'll take away 50% of your net worth. If you roll a 2, 3, 4 or 5, he'll give you 5% of what's on the table (net worth * 1.05 = new net worth). And if you roll a 6, he'll give you 50% of what's on the table. "
   ]
  },
  {
   "cell_type": "markdown",
   "id": "ea3f7e0a",
   "metadata": {},
   "source": [
    "Make sense? For example, let's say your net worth is \\$1000. If you roll a 1, it'll become \\$500. Then if you roll a 6, it'll become \\$750. Then if you roll a 3, the \\$750 will become \\$787.50. Each roll is cummulative! Nietzsche will roll 300 times, and you'll get to walk away with whatever is left. The question that remains is: would you play? "
   ]
  },
  {
   "cell_type": "markdown",
   "id": "e682d3c8",
   "metadata": {},
   "source": [
    "Fortunately for us, we know a bit of python, so we can code our way to an answer. We can find out whether this is a game worth playing if we see what happens to our net worth over a few thousand runs of the game. If the median wealth after all of these games is more than our starting wealth, then perhaps it's worth playing. "
   ]
  },
  {
   "cell_type": "code",
   "execution_count": 15,
   "id": "bce5bf3b",
   "metadata": {},
   "outputs": [
    {
     "name": "stdout",
     "output_type": "stream",
     "text": [
      "The arithmetic average is: 8365855.546821184\n",
      "The geometric average is: 9.632142627306399\n",
      "The median is: 10.077164738461173\n",
      "The fifth percentile is: 0.0007107774664966996\n"
     ]
    }
   ],
   "source": [
    "import random\n",
    "import statistics\n",
    "import numpy as np\n",
    "\n",
    "dice = [0.5, 1.5, 1.05, 1.05, 1.05, 1.05]\n",
    "pathway = []\n",
    "\n",
    "# this function will take your wager and multiply it by a random number from dice 300 times straight.\n",
    "def montecarlo(wager):\n",
    "    for i in range(0,300):\n",
    "        wager = wager * random.choice(dice)\n",
    "    pathway.append(wager)\n",
    "\n",
    "# this function will run the function above 10,000 times, such that you get to see the results of 10,000 wagers.\n",
    "def graphing():\n",
    "    for i in range(0,100_000):\n",
    "        montecarlo(1000)\n",
    "\n",
    "graphing()\n",
    "print(str(\"The arithmetic average is: \") + str(statistics.mean(pathway)))\n",
    "print(str(\"The geometric average is: \") + str(statistics.geometric_mean(pathway)))\n",
    "print(str(\"The median is: \") + str(statistics.median(pathway)))\n",
    "\n",
    "a = np.array(pathway)\n",
    "p = np.percentile(a, 5)\n",
    "print(\"The fifth percentile is: \" + str(p))"
   ]
  },
  {
   "cell_type": "markdown",
   "id": "a42729d3",
   "metadata": {},
   "source": [
    "That's the first game. The second game lets you do something different, and hopefully it saves you some money too. Instead of betting all of your money with every dice roll, you only bet 40% of it. So for example, if you start out with $1000, you'd bet $400 and keep $600 in cash. After the roll, you combine whatever's left of the bet with your cash. Then you take 40% of your money again, and bet that too. So on and so on for 300 rolls. "
   ]
  },
  {
   "cell_type": "code",
   "execution_count": 14,
   "id": "49568acf",
   "metadata": {},
   "outputs": [
    {
     "name": "stdout",
     "output_type": "stream",
     "text": [
      "The arithmetic average is: 52452.50646358618\n",
      "The geometric average is: 6815.882506443216\n",
      "The median is: 6828.398490727624\n",
      "The fifth percentile is: 226.468451696743\n"
     ]
    }
   ],
   "source": [
    "import random\n",
    "import statistics\n",
    "import numpy as np\n",
    "\n",
    "dice = [0.5, 1.5, 1.05, 1.05, 1.05, 1.05]\n",
    "pathway = []\n",
    "\n",
    "# this function will take your wager and multiply it by a random number from dice 300 times straight.\n",
    "def montecarlo(wager):\n",
    "    for i in range(0,300):\n",
    "        portion = wager * 0.4\n",
    "        remainder = wager * 0.6\n",
    "        wager = (portion * random.choice(dice)) + remainder\n",
    "    pathway.append(wager)\n",
    "\n",
    "# this function will run the function above 10,000 times, such that you get to see the results of 10,000 wagers.\n",
    "def graphing():\n",
    "    for i in range(0,100_000):\n",
    "        montecarlo(1000)\n",
    "\n",
    "graphing()\n",
    "print(str(\"The arithmetic average is: \") + str(statistics.mean(pathway)))\n",
    "print(str(\"The geometric average is: \") + str(statistics.geometric_mean(pathway)))\n",
    "print(str(\"The median is: \") + str(statistics.median(pathway)))\n",
    "\n",
    "a = np.array(pathway)\n",
    "p = np.percentile(a, 5)\n",
    "print(\"The fifth percentile is: \" + str(p))"
   ]
  },
  {
   "cell_type": "markdown",
   "id": "ea88042b",
   "metadata": {},
   "source": [
    "That was the second game. This third and final game is a special one where you get to use insurance. Instead of 40:60, it'll be 91:9. 91% goes towards the bet, and 9% goes towards paying for insurance. If you roll a 2, 3, 4, 5 or 6, that 9% is just a loss. But if you roll a 1, then the 9% will pay you back 5 fold. For example, if you have $1000 and roll a 1, then you first separate 910 and 90. The 910 gets cut in half to become 455. But the 90 gets multiplied by 5 to become 450. So your total wealth after the first roll becomes 455 + 450 = 905. \n",
    "\n",
    "Now say you then roll a 3. Once again, you separate your wealth by 91:9, so $905 becomes $823.55 and $81.45. Since you didn't roll a 1, you lose that 81.45 to the insurance company. But you do grow your $823.55 by 5%, so it is now $864.73."
   ]
  },
  {
   "cell_type": "code",
   "execution_count": 13,
   "id": "09bccd06",
   "metadata": {},
   "outputs": [
    {
     "name": "stdout",
     "output_type": "stream",
     "text": [
      "The arithmetic average is: 102542.9483491382\n",
      "The geometric average is: 4310.285846892007\n",
      "The median is: 4185.916110443729\n",
      "The fifth percentile is: 88.04152050160235\n"
     ]
    }
   ],
   "source": [
    "import random\n",
    "import statistics\n",
    "import numpy as np\n",
    "\n",
    "dice = [0.5, 1.5, 1.05, 1.05, 1.05, 1.05]\n",
    "pathway = []\n",
    "\n",
    "# this function will take your wager and multiply it by a random number from dice 300 times straight.\n",
    "def montecarlo(wager):\n",
    "    for i in range(0,300):\n",
    "        diceroll = random.choice(dice)\n",
    "        portion = wager * 0.91 * diceroll\n",
    "        if diceroll == 0.5:\n",
    "            wager = (wager * 0.09 * 5) + portion\n",
    "        else:\n",
    "            wager = portion\n",
    "    pathway.append(wager)\n",
    "\n",
    "# this function will run the function above 10,000 times, such that you get to see the results of 10,000 wagers.\n",
    "def graphing():\n",
    "    for i in range(0,100_000):\n",
    "        montecarlo(1000)\n",
    "\n",
    "graphing()\n",
    "print(str(\"The arithmetic average is: \") + str(statistics.mean(pathway)))\n",
    "print(str(\"The geometric average is: \") + str(statistics.geometric_mean(pathway)))\n",
    "print(str(\"The median is: \") + str(statistics.median(pathway)))\n",
    "\n",
    "a = np.array(pathway)\n",
    "p = np.percentile(a, 5)\n",
    "print(\"The fifth percentile is: \" + str(p))"
   ]
  },
  {
   "cell_type": "markdown",
   "id": "d942e4c5",
   "metadata": {},
   "source": [
    "So we see that in terms of wealth preservation, it's better to do the 40:60 split than the 91:9 insurance split. The median return of the 40:60 split is roughly $2600 more than the 91:9 split. Furthermore, if you end up unlucky, your end wealth (at the 5th percentile) is also higher."
   ]
  },
  {
   "cell_type": "markdown",
   "id": "ea65c70b",
   "metadata": {},
   "source": [
    "This is very strange because Spitznagel writes that the 91:9 split is more profitable. Huh! Anyways, hope you found this helpful. "
   ]
  }
 ],
 "metadata": {
  "kernelspec": {
   "display_name": "Python 3 (ipykernel)",
   "language": "python",
   "name": "python3"
  },
  "language_info": {
   "codemirror_mode": {
    "name": "ipython",
    "version": 3
   },
   "file_extension": ".py",
   "mimetype": "text/x-python",
   "name": "python",
   "nbconvert_exporter": "python",
   "pygments_lexer": "ipython3",
   "version": "3.9.12"
  }
 },
 "nbformat": 4,
 "nbformat_minor": 5
}
